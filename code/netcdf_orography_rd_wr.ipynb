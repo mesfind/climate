{
 "cells": [
  {
   "cell_type": "code",
   "execution_count": 1,
   "metadata": {
    "collapsed": true
   },
   "outputs": [],
   "source": [
    "import netCDF4\n",
    "import numpy as np"
   ]
  },
  {
   "cell_type": "code",
   "execution_count": 2,
   "metadata": {
    "collapsed": true
   },
   "outputs": [],
   "source": [
    "f = netCDF4.Dataset('orography.nc', 'w')\n",
    "f.createDimension('time', None)\n",
    "f.createDimension('z', 3)\n",
    "f.createDimension('y', 4)\n",
    "f.createDimension('x', 5)\n",
    "lats = f.createVariable('lat', float, ('y',), zlib=True)\n",
    "lons = f.createVariable('lon', float, ('x',), zlib=True)\n",
    "orography = f.createVariable('orog', float, ('y', 'x'), zlib=True, least_significant_digit=1, fill_value=0)\n",
    "lat_out  = [60, 65, 70, 75]\n",
    "lon_out  = [ 30,  60,  90, 120, 150]\n",
    "# Create field values for orography\n",
    "data_out = np.arange(4*5) # 1d array but with dimension x*y\n",
    "data_out.shape = (4,5) # reshape to 2d array\n",
    "orography[:] = data_out\n",
    "lats[:] = lat_out\n",
    "lons[:] = lon_out\n",
    "f.close()"
   ]
  },
  {
   "cell_type": "code",
   "execution_count": 3,
   "metadata": {},
   "outputs": [
    {
     "name": "stdout",
     "output_type": "stream",
     "text": [
      "[ 60.  65.  70.  75.]\n",
      "[  30.   60.   90.  120.  150.]\n",
      "[[-- 1.0 2.0 3.0 4.0]\n",
      " [5.0 6.0 7.0 8.0 9.0]\n",
      " [10.0 11.0 12.0 13.0 14.0]\n",
      " [15.0 16.0 17.0 18.0 19.0]]\n"
     ]
    }
   ],
   "source": [
    "f = netCDF4.Dataset('orography.nc', 'r')\n",
    "lats = f.variables['lat']\n",
    "lons = f.variables['lon']\n",
    "orography = f.variables['orog']\n",
    "print(lats[:])\n",
    "print(lons[:])\n",
    "print(orography[:])\n",
    "f.close()"
   ]
  },
  {
   "cell_type": "code",
   "execution_count": null,
   "metadata": {
    "collapsed": true
   },
   "outputs": [],
   "source": []
  }
 ],
 "metadata": {
  "kernelspec": {
   "display_name": "Python 3",
   "language": "python",
   "name": "python3"
  },
  "language_info": {
   "codemirror_mode": {
    "name": "ipython",
    "version": 3
   },
   "file_extension": ".py",
   "mimetype": "text/x-python",
   "name": "python",
   "nbconvert_exporter": "python",
   "pygments_lexer": "ipython3",
   "version": "3.6.2"
  }
 },
 "nbformat": 4,
 "nbformat_minor": 2
}
